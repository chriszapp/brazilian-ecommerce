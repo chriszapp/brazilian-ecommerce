{
 "cells": [
  {
   "cell_type": "markdown",
   "metadata": {},
   "source": [
    "## Brazillian E-Commerce Dataset\n",
    "#### Downloaded from [Kaggle](https://www.kaggle.com/olistbr/brazilian-ecommerce)\n",
    "\n",
    "**About the data:**\n",
    "> The dataset has information of 100k orders from 2016 to 2018 made at multiple marketplaces in Brazil. Its features allows viewing an order from multiple dimensions: from order status, price, payment and freight performance to customer location, product attributes and finally reviews written by customers. We also released a geolocation dataset that relates Brazilian zip codes to lat/lng coordinates.\n",
    "\n",
    "**About Olist.com**\n",
    "> This dataset was generously provided by Olist, the largest department store in Brazilian marketplaces. Olist connects small businesses from all over Brazil to channels without hassle and with a single contract. Those merchants are able to sell their products through the Olist Store and ship them directly to the customers using Olist logistics partners.\n",
    "\n",
    "**Attention**\n",
    "- An order might have multiple items.\n",
    "- Each item might be fulfilled by a distinct seller.\n",
    "- All text identifying stores and partners where replaced by the names of Game of Thrones great houses.\n",
    "\n",
    "**Schema**\n",
    "<img src=\"ds-schema.png\" style=\"width: 600px;\">\n",
    "\n",
    "### Description of columns\n",
    "\n",
    "| Dataset | Column  | Description  |\n",
    "| --- | --- | --- |\n",
    "| *Orders* | order_id | unique identifier of the order. |\n",
    "| *Orders* | customer_id | key to the customer dataset. Each order has a unique customer_id. |\n",
    "| *Orders* | order_status | Reference to the order status (delivered, shipped, etc). |\n",
    "| *Orders* | order_purchase_timestamp | Shows the purchase timestamp. |\n",
    "| *Orders* | order_approved_at | Shows the payment approval timestamp. |\n",
    "| *Orders* | order_delivered_carrier_date | Shows the order posting timestamp. When it was handled to the logistic partner. |\n",
    "| *Orders* | order_delivered_customer_date | Shows the actual order delivery date to the customer. |\n",
    "| *Orders* | order_estimated_delivery_date | Shows the estimated delivery date that was informed to customer at the purchase moment. |\n",
    "| --- | --- | --- |\n",
    "| *Payments* | payment_sequential | a customer may pay with more than one payment method. If so, a sequence will be created to accommodate all payments. |\n",
    "| *Payments* | payment_type | method of payment chosen by the customer. |\n",
    "| *Payments* | payment_installments | number of installments chosen by the customer. |\n",
    "| *Payments* | payment_value | transaction value. |\n",
    "| --- | --- | --- |\n",
    "| *Reviews* | review_id | unique review identifier |\n",
    "| *Reviews* | review_score | Note ranging from 1 to 5 given by the customer on a satisfaction survey. |\n",
    "| *Reviews* | review_comment_title | Comment title from the review left by the customer, in Portuguese. |\n",
    "| *Reviews* | review_comment_message | Comment message from the review left by the customer, in Portuguese. |\n",
    "| *Reviews* | review_creation_date | Shows the date in which the satisfaction survey was sent to the customer. |\n",
    "| *Reviews* | review_answer_timestamp | Shows satisfaction survey answer timestamp. |\n",
    "| --- | --- | --- |\n",
    "| *Items* | order_item_id | sequential number identifying number of items included in the same order. |\n",
    "| *Items* | product_id | product unique identifier |\n",
    "| *Items* | seller_id | seller unique identifier |\n",
    "| *Items* | shipping_limit_date | Shows the seller shipping limit date for handling the order over to the logistic partner. |\n",
    "| *Items* | price | item price |\n",
    "| *Items* | freight_value | item freight value item (if an order has more than one item the freight value is splitted between items) |\n",
    "| --- | --- | --- |\n",
    "| *Products* | product_category_name | root category of product, in Portuguese. |\n",
    "| *Products* | product_name_lenght | number of characters extracted from the product name. |\n",
    "| *Products* | product_description_lenght | number of characters extracted from the product description. |\n",
    "| *Products* | product_photos_qty | number of product published photos |\n",
    "| *Products* | product_weight_g | product weight measured in grams. |\n",
    "| *Products* | product_length_cm | product length measured in centimeters. |\n",
    "| *Products* | product_height_cm | product height measured in centimeters. |\n",
    "| *Products* | product_width_cm | product width measured in centimeters. |"
   ]
  },
  {
   "cell_type": "code",
   "execution_count": 666,
   "metadata": {},
   "outputs": [],
   "source": [
    "# libraries\n",
    "import numpy as np\n",
    "import pandas as pd\n",
    "import matplotlib.pyplot as plt\n",
    "import datetime as dt"
   ]
  },
  {
   "cell_type": "code",
   "execution_count": 667,
   "metadata": {},
   "outputs": [],
   "source": [
    "# matplotlib params\n",
    "hfont = {'fontname':'sans-serif'}\n",
    "\n",
    "# pandas params\n",
    "pd.options.display.max_rows = 100"
   ]
  },
  {
   "cell_type": "code",
   "execution_count": 668,
   "metadata": {},
   "outputs": [],
   "source": [
    "data_path = 'C:/Users/Zaca/Documents/Datasets/brazilian-ecommerce/olist_'"
   ]
  },
  {
   "cell_type": "code",
   "execution_count": 669,
   "metadata": {},
   "outputs": [],
   "source": [
    "# opening datasets individually (ignored customers and sellers)\n",
    "orders = pd.read_csv(data_path + 'orders_dataset.csv')\n",
    "items = pd.read_csv(data_path + 'order_items_dataset.csv')\n",
    "products = pd.read_csv(data_path + 'products_dataset.csv')\n",
    "payments = pd.read_csv(data_path + 'order_payments_dataset.csv')\n",
    "reviews = pd.read_csv(data_path + 'order_reviews_dataset.csv')\n",
    "\n",
    "data = {'orders': orders,\n",
    "        'items': items, \n",
    "        'products': products,\n",
    "        'payments': payments,\n",
    "        'reviews': reviews}"
   ]
  },
  {
   "cell_type": "markdown",
   "metadata": {},
   "source": [
    "## Data cleaning"
   ]
  },
  {
   "cell_type": "markdown",
   "metadata": {},
   "source": [
    "### Orders\n",
    "- This is the most important data set as its like a *linking table*, and is connected to a lot of other datatsets by *order_id*."
   ]
  },
  {
   "cell_type": "code",
   "execution_count": 670,
   "metadata": {},
   "outputs": [
    {
     "name": "stdout",
     "output_type": "stream",
     "text": [
      "Order cols:  ['order_id' 'customer_id' 'order_status' 'order_purchase_timestamp'\n",
      " 'order_approved_at' 'order_delivered_carrier_date'\n",
      " 'order_delivered_customer_date' 'order_estimated_delivery_date']\n"
     ]
    }
   ],
   "source": [
    "print('Order cols: ' , data['orders'].columns.values)\n",
    "\n",
    "# i've decided I'm not interested in order_approved, and order_delivered_carrier_date\n",
    "orders_drop_cols = ['order_approved_at', \n",
    "                    'order_delivered_carrier_date']\n",
    "\n",
    "data['orders'].drop(orders_drop_cols, axis= 1, inplace= True)"
   ]
  },
  {
   "cell_type": "code",
   "execution_count": 671,
   "metadata": {
    "scrolled": true
   },
   "outputs": [
    {
     "name": "stdout",
     "output_type": "stream",
     "text": [
      "delivered      96478\n",
      "shipped         1107\n",
      "canceled         625\n",
      "unavailable      609\n",
      "invoiced         314\n",
      "processing       301\n",
      "created            5\n",
      "approved           2\n",
      "Name: order_status, dtype: int64\n"
     ]
    }
   ],
   "source": [
    "# for the purpose of this analysis I'll be selecting only orders that have been in fact, delivered\n",
    "print(data['orders']['order_status'].value_counts())"
   ]
  },
  {
   "cell_type": "code",
   "execution_count": 672,
   "metadata": {
    "scrolled": true
   },
   "outputs": [
    {
     "name": "stdout",
     "output_type": "stream",
     "text": [
      "Taking only delivered orders we still get 97.02% of data.\n"
     ]
    }
   ],
   "source": [
    "print('Taking only delivered orders we still get ' + \n",
    "      str(round((data['orders'].order_status.value_counts()['delivered']/len(data['orders']))*100,2)) +\n",
    "      '% of data.')"
   ]
  },
  {
   "cell_type": "code",
   "execution_count": 673,
   "metadata": {},
   "outputs": [],
   "source": [
    "# first I will get all order_id where the order status was delivered\n",
    "delivered = data['orders']['order_id'][data['orders']['order_status'] != 'delivered'].values\n",
    "\n",
    "# now filter every other dataframe where order_id is a foreign key\n",
    "for key, value in data.items():\n",
    "    if 'order_id' in value.columns:\n",
    "        value.drop(value.loc[value['order_id'].isin(delivered)].index, inplace = True)\n"
   ]
  },
  {
   "cell_type": "code",
   "execution_count": 674,
   "metadata": {},
   "outputs": [
    {
     "name": "stdout",
     "output_type": "stream",
     "text": [
      "order_delivered_customer_date (%): 0.006761610953809745\n",
      "product_category_name (%): 0.5155728352279931\n",
      "product_name_lenght (%): 0.5155728352279931\n",
      "product_description_lenght (%): 0.5155728352279931\n",
      "product_photos_qty (%): 0.5155728352279931\n",
      "product_weight_g (%): 0.0016904027384524363\n",
      "product_length_cm (%): 0.0016904027384524363\n",
      "product_height_cm (%): 0.0016904027384524363\n",
      "product_width_cm (%): 0.0016904027384524363\n",
      "review_comment_title (%): 72.42530532899464\n",
      "review_comment_message (%): 48.3979208046317\n"
     ]
    }
   ],
   "source": [
    "# checking for nans in each dataset\n",
    "for key, value in data.items():\n",
    "    for col in value.columns:\n",
    "        # print only col names where there are nans\n",
    "        if value[col].isnull().sum():\n",
    "            print(col + ' (%): ' + str((sum(value[col].isnull())/len(ds))*100))"
   ]
  },
  {
   "cell_type": "code",
   "execution_count": 675,
   "metadata": {},
   "outputs": [
    {
     "name": "stdout",
     "output_type": "stream",
     "text": [
      "There are only 8 orders that are missing delivery dates.\n"
     ]
    }
   ],
   "source": [
    "# let's deal first with orders nans\n",
    "# I've observed that these nans in the orders list are not really overlapping, and the only ones I really\n",
    "# care about are the delivered_customer_date.\n",
    "print('There are only ' + str(data['orders'].order_delivered_customer_date.isnull().sum()) + \n",
    "      ' orders that are missing delivery dates.')"
   ]
  },
  {
   "cell_type": "code",
   "execution_count": 676,
   "metadata": {},
   "outputs": [],
   "source": [
    "# we can drop them the same way as before\n",
    "# first I will get all order_id where the order status was delivered\n",
    "null_deliveries = data['orders']['order_id'][data['orders']['order_delivered_customer_date'].isnull()].values\n",
    "\n",
    "# now filter every other dataframe where order_id is a foreign key\n",
    "for key, value in data.items():\n",
    "    if 'order_id' in value.columns:\n",
    "        value.drop(value.loc[value['order_id'].isin(null_deliveries)].index, inplace = True)"
   ]
  },
  {
   "cell_type": "code",
   "execution_count": 677,
   "metadata": {},
   "outputs": [],
   "source": [
    "# there are 3 date columns in the orders dataset that I will transform to datetime and keep only the date\n",
    "# ignoring hours minutes and seconds\n",
    "data['orders'].order_purchase_timestamp = pd.to_datetime(data['orders'].order_purchase_timestamp).dt.date\n",
    "data['orders'].order_delivered_customer_date = pd.to_datetime(data['orders'].order_delivered_customer_date).dt.date\n",
    "data['orders'].order_estimated_delivery_date = pd.to_datetime(data['orders'].order_estimated_delivery_date).dt.date"
   ]
  },
  {
   "cell_type": "code",
   "execution_count": 678,
   "metadata": {},
   "outputs": [],
   "source": [
    "# I'm not particularly interested in the actual date of delivery, but more if it was delivered on time\n",
    "data['orders']['delivered_on_time'] = np.where(data['orders'].order_delivered_customer_date < data['orders'].order_estimated_delivery_date, 1, 0)"
   ]
  },
  {
   "cell_type": "markdown",
   "metadata": {},
   "source": [
    "**Note:** *this column could be used with a geometric distribution? For example: how many orders until one doesn't get delivered on time?*"
   ]
  },
  {
   "cell_type": "markdown",
   "metadata": {},
   "source": [
    "### Reviews"
   ]
  },
  {
   "cell_type": "code",
   "execution_count": 679,
   "metadata": {},
   "outputs": [
    {
     "name": "stdout",
     "output_type": "stream",
     "text": [
      "Review cols:  ['review_id' 'order_id' 'review_score' 'review_comment_title'\n",
      " 'review_comment_message' 'review_creation_date' 'review_answer_timestamp']\n"
     ]
    }
   ],
   "source": [
    "print('Review cols: ' , data['reviews'].columns.values)"
   ]
  },
  {
   "cell_type": "code",
   "execution_count": 680,
   "metadata": {},
   "outputs": [],
   "source": [
    "# the review_comment_title column is 88% NaN so i'll just drop it.\n",
    "# and when the review was sent to the customer\n",
    "review_drop_cols = ['review_comment_title']\n",
    "data['reviews'].drop(review_drop_cols, axis= 1, inplace= True)"
   ]
  },
  {
   "cell_type": "code",
   "execution_count": 681,
   "metadata": {},
   "outputs": [],
   "source": [
    "# for now I won't do any text analysis so I'm not super interested in the comment message\n",
    "# it looks like in this column there are nans if people did not leave a review\n",
    "# I don't want to drop the column, so I will just replace nan by 0 and the review by 1\n",
    "data['reviews']['review_comment_message'] = np.where(data['reviews']['review_comment_message'].isnull(), 0, 1)"
   ]
  },
  {
   "cell_type": "markdown",
   "metadata": {},
   "source": [
    "### Products"
   ]
  },
  {
   "cell_type": "code",
   "execution_count": 682,
   "metadata": {},
   "outputs": [
    {
     "name": "stdout",
     "output_type": "stream",
     "text": [
      "Product cols:  ['product_id' 'product_category_name' 'product_name_lenght'\n",
      " 'product_description_lenght' 'product_photos_qty' 'product_weight_g'\n",
      " 'product_length_cm' 'product_height_cm' 'product_width_cm']\n"
     ]
    }
   ],
   "source": [
    "print('Product cols: ' , data['products'].columns.values)\n",
    "\n",
    "# I've decided I'm not interested in the length of the name or the description of the product (too many nans)\n",
    "# also I can't think of anything to do with the size attributes of each product\n",
    "product_drop_cols = ['product_name_lenght', \n",
    "                     'product_description_lenght', \n",
    "                     'product_weight_g', \n",
    "                     'product_length_cm', \n",
    "                     'product_height_cm',\n",
    "                     'product_width_cm']\n",
    "\n",
    "data['products'].drop(product_drop_cols, axis= 1, inplace= True)"
   ]
  },
  {
   "cell_type": "code",
   "execution_count": 683,
   "metadata": {},
   "outputs": [],
   "source": [
    "# after looking at a gigantic list of categories for products \n",
    "# I think it's safe to assume that I can replace nans in these columns by 'other'\n",
    "data['products']['product_category_name'].fillna(value='outro', inplace=True)"
   ]
  },
  {
   "cell_type": "code",
   "execution_count": 684,
   "metadata": {},
   "outputs": [],
   "source": [
    "# there are no zeros in the photos_qty column, somehow I doubt there are NO products with zero photos\n",
    "# will fill nans with zero in this column\n",
    "data['products']['product_photos_qty'].fillna(value=0, inplace=True)"
   ]
  },
  {
   "cell_type": "markdown",
   "metadata": {},
   "source": [
    "### Payments"
   ]
  },
  {
   "cell_type": "code",
   "execution_count": 685,
   "metadata": {},
   "outputs": [
    {
     "name": "stdout",
     "output_type": "stream",
     "text": [
      "Payment cols:  ['order_id' 'payment_sequential' 'payment_type' 'payment_installments'\n",
      " 'payment_value']\n"
     ]
    }
   ],
   "source": [
    "# i'll keep all these for now.\n",
    "print('Payment cols: ' , data['payments'].columns.values)"
   ]
  },
  {
   "cell_type": "markdown",
   "metadata": {},
   "source": [
    "### Items"
   ]
  },
  {
   "cell_type": "code",
   "execution_count": 686,
   "metadata": {},
   "outputs": [
    {
     "name": "stdout",
     "output_type": "stream",
     "text": [
      "Item cols:  ['order_id' 'order_item_id' 'product_id' 'seller_id' 'shipping_limit_date'\n",
      " 'price' 'freight_value']\n"
     ]
    }
   ],
   "source": [
    "# i'll keep all these for now.\n",
    "print('Item cols: ' , data['items'].columns.values)\n",
    "data['items'].shipping_limit_date = pd.to_datetime(data['items'].shipping_limit_date).dt.date"
   ]
  },
  {
   "cell_type": "markdown",
   "metadata": {},
   "source": [
    "## Exploratory Data Analysis"
   ]
  },
  {
   "cell_type": "markdown",
   "metadata": {},
   "source": [
    "### Orders"
   ]
  },
  {
   "cell_type": "code",
   "execution_count": 687,
   "metadata": {},
   "outputs": [
    {
     "data": {
      "image/png": "[encoded data removed]",
      "text/plain": [
       "<Figure size 432x288 with 1 Axes>"
      ]
     },
     "metadata": {},
     "output_type": "display_data"
    }
   ],
   "source": [
    "fig, ax = plt.subplots()\n",
    "plt.title('Orders Delivered',**hfont)\n",
    "labels = 'On time', 'Delayed'\n",
    "prob_on_time = data['orders'].delivered_on_time.sum()/len(data['orders'].delivered_on_time)\n",
    "sizes = [prob_on_time, 1 - prob_on_time]\n",
    "explode = (0, 0.12)\n",
    "ax.pie(sizes, explode, labels, autopct='%1.1f%%');"
   ]
  },
  {
   "cell_type": "code",
   "execution_count": 711,
   "metadata": {},
   "outputs": [
    {
     "name": "stdout",
     "output_type": "stream",
     "text": [
      "First registered order:  2016-09-15\n",
      "Last registered order:  2018-08-29\n"
     ]
    },
    {
     "data": {
      "image/png": "[encoded data removed]",
      "text/plain": [
       "<Figure size 432x288 with 1 Axes>"
      ]
     },
     "metadata": {
      "needs_background": "light"
     },
     "output_type": "display_data"
    }
   ],
   "source": [
    "# purchase_timestamp also has interesting information about the frequency of orders\n",
    "min_order_date = data['orders'].order_purchase_timestamp.min()\n",
    "max_order_date = data['orders'].order_purchase_timestamp.max()\n",
    "print('First registered order: ', min_order_date)\n",
    "print('Last registered order: ', max_order_date)\n",
    "\n",
    "# creating a list of days between the beggining of the dataset and the end.\n",
    "order_dates = [min_order_date + datetime.timedelta(days= i) for i in range((max_order_date - min_order_date).days)]\n",
    "\n",
    "# I want to histogram the dates and then plot a line\n",
    "# but numpy histogram only works with numbers so we need to do the following\n",
    "to_timestamp = np.vectorize(lambda x: (x - dt.date(1970, 1, 1)).total_seconds())\n",
    "time_stamps = to_timestamp(data['orders'].order_purchase_timestamp)\n",
    "order_histogram = np.histogram(time_stamps, bins = len(order_dates))[0]\n",
    "\n",
    "\n",
    "fig, ax = plt.subplots()\n",
    "ax.plot(order_dates, order_histogram);"
   ]
  },
  {
   "cell_type": "code",
   "execution_count": 715,
   "metadata": {},
   "outputs": [
    {
     "name": "stdout",
     "output_type": "stream",
     "text": [
      "Highest order date: 2017-11-24\n",
      "# of orders: 1147\n"
     ]
    }
   ],
   "source": [
    "# cool peak, let's check the date of when this happened\n",
    "dates_and_counts = list(zip(order_dates, order_histogram))\n",
    "print('Highest order date: ' + str(max(dates_and_counts, key=lambda x: x[1])[0]))\n",
    "print('# of orders: ' + str(max(dates_and_counts, key=lambda x: x[1])[1]))"
   ]
  },
  {
   "cell_type": "markdown",
   "metadata": {},
   "source": [
    "- *it seems that 24/11/2017 was [Black Friday](https://en.wikipedia.org/wiki/Black_Friday_(shopping)). it could be interesting to see the average price of items bought that day agains the price of the same items any other day. also, there are two years so why only one peak? maybe there were no discounts in the other black friday (Friday, November 25)*\n",
    "- **i'll do that later**"
   ]
  },
  {
   "cell_type": "code",
   "execution_count": null,
   "metadata": {},
   "outputs": [],
   "source": []
  }
 ],
 "metadata": {
  "kernelspec": {
   "display_name": "Python 3",
   "language": "python",
   "name": "python3"
  },
  "language_info": {
   "codemirror_mode": {
    "name": "ipython",
    "version": 3
   },
   "file_extension": ".py",
   "mimetype": "text/x-python",
   "name": "python",
   "nbconvert_exporter": "python",
   "pygments_lexer": "ipython3",
   "version": "3.7.4"
  }
 },
 "nbformat": 4,
 "nbformat_minor": 2
}
