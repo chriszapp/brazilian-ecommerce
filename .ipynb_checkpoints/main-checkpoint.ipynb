{
 "cells": [
  {
   "cell_type": "markdown",
   "metadata": {},
   "source": [
    "### Brazillian E-Commerce Dataset\n",
    "[Kaggle](https://www.kaggle.com/olistbr/brazilian-ecommerce)\n",
    "\n",
    "**Attention**\n",
    "- An order might have multiple items.\n",
    "- Each item might be fulfilled by a distinct seller.\n",
    "- All text identifying stores and partners where replaced by the names of Game of Thrones great houses.\n",
    "\n",
    "**Schema**\n",
    "<img src=\"ds-schema.png\" style=\"width: 600px;\">\n",
    "\n",
    "### Description of columns\n",
    "\n",
    "| Column  | Description  |\n",
    "| --- | --- |\n",
    "| **Orders** | --- |\n",
    "| order_id | unique identifier of the order. |\n",
    "| customer_id | key to the customer dataset. Each order has a unique customer_id. |\n",
    "| order_status | Reference to the order status (delivered, shipped, etc). |\n",
    "| order_purchase_timestamp | Shows the purchase timestamp. |\n",
    "| order_approved_at | Shows the payment approval timestamp. |\n",
    "| order_delivered_carrier_date | Shows the order posting timestamp. When it was handled to the logistic partner. |\n",
    "| order_delivered_customer_date | Shows the actual order delivery date to the customer. |\n",
    "| order_estimated_delivery_date | Shows the estimated delivery date that was informed to customer at the purchase moment. |\n",
    "| **Payments** | --- |\n",
    "| payment_sequential | a customer may pay an order with more than one payment method. If he does so, a sequence will be created to accommodate all payments. |\n",
    "| payment_type | method of payment chosen by the customer. |\n",
    "| payment_installments | number of installments chosen by the customer. |\n",
    "| payment_value | transaction value. |\n",
    "| **Reviews** | --- |\n",
    "| review_id | unique review identifier |\n",
    "| review_score | Note ranging from 1 to 5 given by the customer on a satisfaction survey. |\n",
    "| review_comment_title | Comment title from the review left by the customer, in Portuguese. |\n",
    "| review_comment_message | Comment message from the review left by the customer, in Portuguese. |\n",
    "| review_creation_date | Shows the date in which the satisfaction survey was sent to the customer. |\n",
    "| review_answer_timestamp | Shows satisfaction survey answer timestamp. |\n",
    "| **Items** | --- |\n",
    "| order_item_id | sequential number identifying number of items included in the same order. |\n",
    "| product_id | product unique identifier |\n",
    "| seller_id | seller unique identifier |\n",
    "| shipping_limit_date | Shows the seller shipping limit date for handling the order over to the logistic partner. |\n",
    "| price | item price |\n",
    "| freight_value | item freight value item (if an order has more than one item the freight value is splitted between items) |\n",
    "| **Products** | --- |\n",
    "| product_category_name | root category of product, in Portuguese. |\n",
    "| product_name_lenght | number of characters extracted from the product name. |\n",
    "| product_description_lenght | number of characters extracted from the product description. |\n",
    "| product_photos_qty | number of product published photos |\n",
    "| product_weight_g | product weight measured in grams. |\n",
    "| product_length_cm | product length measured in centimeters. |\n",
    "| product_height_cm | product height measured in centimeters. |\n",
    "| product_width_cm | product width measured in centimeters. |"
   ]
  },
  {
   "cell_type": "code",
   "execution_count": 287,
   "metadata": {},
   "outputs": [],
   "source": [
    "import numpy as np\n",
    "import pandas as pd\n",
    "import matplotlib.pyplot as plt\n",
    "pd.options.display.max_rows = 100"
   ]
  },
  {
   "cell_type": "code",
   "execution_count": 288,
   "metadata": {},
   "outputs": [],
   "source": [
    "data_path = 'C:/Users/Zaca/Documents/Datasets/brazilian-ecommerce/olist_'"
   ]
  },
  {
   "cell_type": "code",
   "execution_count": 289,
   "metadata": {},
   "outputs": [],
   "source": [
    "# opening datasets individually (ignored customers and sellers)\n",
    "orders = pd.read_csv(data_path + 'orders_dataset.csv')\n",
    "items = pd.read_csv(data_path + 'order_items_dataset.csv')\n",
    "products = pd.read_csv(data_path + 'products_dataset.csv')\n",
    "payments = pd.read_csv(data_path + 'order_payments_dataset.csv')\n",
    "reviews = pd.read_csv(data_path + 'order_reviews_dataset.csv')\n",
    "\n",
    "data = {'orders': orders,\n",
    "        'items': items, \n",
    "        'products': products,\n",
    "        'payments': payments,\n",
    "        'reviews': reviews}"
   ]
  },
  {
   "cell_type": "markdown",
   "metadata": {},
   "source": [
    "## Data cleaning"
   ]
  },
  {
   "cell_type": "markdown",
   "metadata": {},
   "source": [
    "### Orders\n",
    "- This is the most important data set as its like a *linking table*, and is connected to a lot of other datatsets by *order_id*."
   ]
  },
  {
   "cell_type": "code",
   "execution_count": 290,
   "metadata": {},
   "outputs": [],
   "source": [
    "# i've decided I'm not interested in order_approved, and order_delivered_carrier_date\n",
    "data['orders'].drop(['order_approved_at', 'order_delivered_carrier_date'], axis= 1, inplace= True)"
   ]
  },
  {
   "cell_type": "code",
   "execution_count": 291,
   "metadata": {
    "scrolled": true
   },
   "outputs": [
    {
     "name": "stdout",
     "output_type": "stream",
     "text": [
      "delivered      96478\n",
      "shipped         1107\n",
      "canceled         625\n",
      "unavailable      609\n",
      "invoiced         314\n",
      "processing       301\n",
      "created            5\n",
      "approved           2\n",
      "Name: order_status, dtype: int64\n"
     ]
    }
   ],
   "source": [
    "# for the purpose of this analysis I'll be selecting only orders that have been in fact, delivered\n",
    "print(data['orders']['order_status'].value_counts())"
   ]
  },
  {
   "cell_type": "code",
   "execution_count": 292,
   "metadata": {
    "scrolled": true
   },
   "outputs": [
    {
     "name": "stdout",
     "output_type": "stream",
     "text": [
      "Taking only delivered orders we still get 97.02% of data.\n"
     ]
    }
   ],
   "source": [
    "print('Taking only delivered orders we still get ' + \n",
    "      str(round((data['orders'].order_status.value_counts()['delivered']/len(data['orders']))*100,2)) +\n",
    "      '% of data.')"
   ]
  },
  {
   "cell_type": "code",
   "execution_count": 293,
   "metadata": {},
   "outputs": [],
   "source": [
    "# first I will get all order_id where the order status was delivered\n",
    "delivered = data['orders']['order_id'][data['orders']['order_status'] != 'delivered'].values\n",
    "\n",
    "# now filter every other dataframe where order_id is a foreign key\n",
    "for key, value in data.items():\n",
    "    if 'order_id' in value.columns:\n",
    "        value.drop(value.loc[value['order_id'].isin(delivered)].index, inplace = True)\n"
   ]
  },
  {
   "cell_type": "code",
   "execution_count": 294,
   "metadata": {},
   "outputs": [
    {
     "name": "stdout",
     "output_type": "stream",
     "text": [
      "order_delivered_customer_date (%): 0.006761610953809745\n",
      "product_category_name (%): 0.5155728352279931\n",
      "product_name_lenght (%): 0.5155728352279931\n",
      "product_description_lenght (%): 0.5155728352279931\n",
      "product_photos_qty (%): 0.5155728352279931\n",
      "product_weight_g (%): 0.0016904027384524363\n",
      "product_length_cm (%): 0.0016904027384524363\n",
      "product_height_cm (%): 0.0016904027384524363\n",
      "product_width_cm (%): 0.0016904027384524363\n",
      "review_comment_title (%): 72.42530532899464\n",
      "review_comment_message (%): 48.3979208046317\n"
     ]
    }
   ],
   "source": [
    "# checking for nans in each dataset\n",
    "for key, value in data.items():\n",
    "    for col in value.columns:\n",
    "        # print only col names where there are nans\n",
    "        if value[col].isnull().sum():\n",
    "            print(col + ' (%): ' + str((sum(value[col].isnull())/len(ds))*100))"
   ]
  },
  {
   "cell_type": "code",
   "execution_count": 295,
   "metadata": {},
   "outputs": [
    {
     "name": "stdout",
     "output_type": "stream",
     "text": [
      "There are only 8 orders that are missing delivery dates.\n"
     ]
    }
   ],
   "source": [
    "# let's deal first with orders nans\n",
    "# I've observed that these nans in the orders list are not really overlapping, and the only ones I really\n",
    "# care about are the delivered_customer_date.\n",
    "print('There are only ' + str(data['orders'].order_delivered_customer_date.isnull().sum()) + \n",
    "      ' orders that are missing delivery dates.')"
   ]
  },
  {
   "cell_type": "code",
   "execution_count": 302,
   "metadata": {},
   "outputs": [
    {
     "name": "stdout",
     "output_type": "stream",
     "text": [
      "96478\n",
      "96470\n",
      "110197\n",
      "110189\n",
      "100756\n",
      "100748\n",
      "97015\n",
      "97007\n"
     ]
    }
   ],
   "source": [
    "# we can drop them the same way as before\n",
    "# first I will get all order_id where the order status was delivered\n",
    "null_deliveries = data['orders']['order_id'][data['orders']['order_delivered_customer_date'].isnull()].values\n",
    "\n",
    "# now filter every other dataframe where order_id is a foreign key\n",
    "for key, value in data.items():\n",
    "    if 'order_id' in value.columns:\n",
    "        value.drop(value.loc[value['order_id'].isin(null_deliveries)].index, inplace = True)"
   ]
  },
  {
   "cell_type": "markdown",
   "metadata": {},
   "source": [
    "### Reviews"
   ]
  },
  {
   "cell_type": "code",
   "execution_count": 297,
   "metadata": {},
   "outputs": [],
   "source": [
    "# the review_comment_title column is 88% NaN so i'll just drop it.\n",
    "data['reviews'].drop(['review_comment_title'], axis= 1, inplace= True)"
   ]
  },
  {
   "cell_type": "code",
   "execution_count": 298,
   "metadata": {},
   "outputs": [],
   "source": [
    "# for now I won't do any text analysis so I'm not super interested in the comment message\n",
    "# it looks like in this column there are nans if people did not leave a review\n",
    "# I don't want to drop the column, so I will just replace nan by 0 and the review by 1\n",
    "data['reviews']['review_comment_message'] = np.where(data['reviews']['review_comment_message'].isnull(), 0, 1)"
   ]
  },
  {
   "cell_type": "markdown",
   "metadata": {},
   "source": [
    "### Products"
   ]
  },
  {
   "cell_type": "code",
   "execution_count": 299,
   "metadata": {},
   "outputs": [],
   "source": [
    "# after looking at a gigantic list of categories for products \n",
    "# I think it's safe to assume that I can replace nans in these columns by 'other'\n",
    "data['products']['product_category_name'].fillna(value='outro', inplace=True)"
   ]
  },
  {
   "cell_type": "code",
   "execution_count": 300,
   "metadata": {},
   "outputs": [],
   "source": [
    "# there are no zeros in the photos_qty column, somehow I doubt there are NO products with zero photos\n",
    "# will fill nans with zero in this column\n",
    "data['products']['product_photos_qty'].fillna(value=0, inplace=True)"
   ]
  },
  {
   "cell_type": "code",
   "execution_count": 301,
   "metadata": {},
   "outputs": [],
   "source": [
    "# I've decided I'm not interested in the length of the name or the description of the product (too many nans)\n",
    "data['products'].drop(['product_name_lenght', 'product_description_lenght'], axis= 1, inplace= True)"
   ]
  },
  {
   "cell_type": "markdown",
   "metadata": {},
   "source": [
    "### Payments"
   ]
  },
  {
   "cell_type": "code",
   "execution_count": null,
   "metadata": {},
   "outputs": [],
   "source": []
  }
 ],
 "metadata": {
  "kernelspec": {
   "display_name": "Python 3",
   "language": "python",
   "name": "python3"
  },
  "language_info": {
   "codemirror_mode": {
    "name": "ipython",
    "version": 3
   },
   "file_extension": ".py",
   "mimetype": "text/x-python",
   "name": "python",
   "nbconvert_exporter": "python",
   "pygments_lexer": "ipython3",
   "version": "3.7.4"
  }
 },
 "nbformat": 4,
 "nbformat_minor": 2
}
