{
 "cells": [
  {
   "cell_type": "markdown",
   "metadata": {},
   "source": [
    "### Brazillian E-Commerce Dataset\n",
    "[Kaggle](https://www.kaggle.com/olistbr/brazilian-ecommerce)\n",
    "\n",
    "**Attention**\n",
    "- An order might have multiple items.\n",
    "- Each item might be fulfilled by a distinct seller.\n",
    "- All text identifying stores and partners where replaced by the names of Game of Thrones great houses.\n",
    "\n",
    "**Schema**\n",
    "<img src=\"ds-schema.png\" style=\"width: 600px;\">\n",
    "\n",
    "### Description of columns\n",
    "\n",
    "| Column  | Description  |\n",
    "| --- | --- |\n",
    "| order_id | unique identifier of the order. |\n",
    "| customer_id | key to the customer dataset. Each order has a unique customer_id. |\n",
    "| order_status | Reference to the order status (delivered, shipped, etc). |\n",
    "| order_purchase_timestamp | Shows the purchase timestamp. |\n",
    "| order_approved_at | Shows the payment approval timestamp. |\n",
    "| order_delivered_carrier_date | Shows the order posting timestamp. When it was handled to the logistic partner. |\n",
    "| order_delivered_customer_date | Shows the actual order delivery date to the customer. |\n",
    "| order_estimated_delivery_date | Shows the estimated delivery date that was informed to customer at the purchase moment. |\n",
    "| --- | --- |\n",
    "| payment_sequential | a customer may pay an order with more than one payment method. If he does so, a sequence will be created to accommodate all payments. |\n",
    "| payment_type | method of payment chosen by the customer. |\n",
    "| payment_installments | number of installments chosen by the customer. |\n",
    "| payment_value | transaction value. |\n",
    "| --- | --- |\n",
    "| customer_unique_id | unique identifier of a customer. |\n",
    "| customer_zip_code_prefix | first five digits of customer zip code |\n",
    "| customer_city | customer city name |\n",
    "| customer_state | customer state |\n",
    "| --- | --- |\n",
    "| review_id | unique review identifier |\n",
    "| review_score | Note ranging from 1 to 5 given by the customer on a satisfaction survey. |\n",
    "| review_comment_title | Comment title from the review left by the customer, in Portuguese. |\n",
    "| review_comment_message | Comment message from the review left by the customer, in Portuguese. |\n",
    "| review_creation_date | Shows the date in which the satisfaction survey was sent to the customer. |\n",
    "| review_answer_timestamp | Shows satisfaction survey answer timestamp. |\n",
    "| --- | --- |\n",
    "| order_item_id | sequential number identifying number of items included in the same order. |\n",
    "| product_id | product unique identifier |\n",
    "| seller_id | seller unique identifier |\n",
    "| shipping_limit_date | Shows the seller shipping limit date for handling the order over to the logistic partner. |\n",
    "| price | item price |\n",
    "| freight_value | item freight value item (if an order has more than one item the freight value is splitted between items) |\n",
    "| --- | --- |\n",
    "| product_category_name | root category of product, in Portuguese. |\n",
    "| product_name_lenght | number of characters extracted from the product name. |\n",
    "| product_description_lenght | number of characters extracted from the product description. |\n",
    "| product_photos_qty | number of product published photos |\n",
    "| product_weight_g | product weight measured in grams. |\n",
    "| product_length_cm | product length measured in centimeters. |\n",
    "| product_height_cm | product height measured in centimeters. |\n",
    "| product_width_cm | product width measured in centimeters. |\n",
    "| --- | --- |\n",
    "| seller_zip_code_prefix | first 5 digits of seller zip code |\n",
    "| seller_city | seller city name |\n",
    "| seller_state | seller state |"
   ]
  },
  {
   "cell_type": "code",
   "execution_count": 21,
   "metadata": {},
   "outputs": [],
   "source": [
    "import numpy as np\n",
    "import pandas as pd\n",
    "import matplotlib.pyplot as plt"
   ]
  },
  {
   "cell_type": "code",
   "execution_count": 22,
   "metadata": {},
   "outputs": [],
   "source": [
    "data_path = 'C:/Users/Zaca/Documents/Datasets/brazilian-ecommerce/olist_'"
   ]
  },
  {
   "cell_type": "code",
   "execution_count": 23,
   "metadata": {},
   "outputs": [],
   "source": [
    "# opening datasets individually\n",
    "orders = pd.read_csv(data_path + 'orders_dataset.csv')\n",
    "items = pd.read_csv(data_path + 'order_items_dataset.csv')\n",
    "products = pd.read_csv(data_path + 'products_dataset.csv')\n",
    "payments = pd.read_csv(data_path + 'order_payments_dataset.csv')\n",
    "customers = pd.read_csv(data_path + 'customers_dataset.csv')\n",
    "sellers = pd.read_csv(data_path + 'sellers_dataset.csv')\n",
    "reviews = pd.read_csv(data_path + 'order_reviews_dataset.csv')"
   ]
  },
  {
   "cell_type": "code",
   "execution_count": 25,
   "metadata": {},
   "outputs": [],
   "source": [
    "# and merging them all together based on the schema\n",
    "# this might not be the optimal thing to do for very large datasets but it's somehow easier for me to visualize.\n",
    "orders_payments_customers_reviews = orders.merge(payments, on='order_id', how='inner').merge(customers, on='customer_id').merge(reviews, on='order_id', how='inner')\n",
    "items_products_sellers = items.merge(products, on='product_id', how='inner').merge(sellers, on='seller_id', how='inner')\n",
    "ds = orders_payments_customers_reviews.merge(items_products_sellers, on='order_id', how='inner')"
   ]
  },
  {
   "cell_type": "code",
   "execution_count": 28,
   "metadata": {},
   "outputs": [
    {
     "data": {
      "text/plain": [
       "(118315, 39)"
      ]
     },
     "execution_count": 28,
     "metadata": {},
     "output_type": "execute_result"
    }
   ],
   "source": [
    "ds.shape"
   ]
  },
  {
   "cell_type": "code",
   "execution_count": null,
   "metadata": {},
   "outputs": [],
   "source": []
  },
  {
   "cell_type": "code",
   "execution_count": null,
   "metadata": {},
   "outputs": [],
   "source": []
  }
 ],
 "metadata": {
  "kernelspec": {
   "display_name": "Python 3",
   "language": "python",
   "name": "python3"
  },
  "language_info": {
   "codemirror_mode": {
    "name": "ipython",
    "version": 3
   },
   "file_extension": ".py",
   "mimetype": "text/x-python",
   "name": "python",
   "nbconvert_exporter": "python",
   "pygments_lexer": "ipython3",
   "version": "3.7.4"
  }
 },
 "nbformat": 4,
 "nbformat_minor": 2
}
